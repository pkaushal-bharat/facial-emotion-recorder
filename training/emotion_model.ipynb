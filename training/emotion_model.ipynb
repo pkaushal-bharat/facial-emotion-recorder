{
 "cells": [
  {
   "cell_type": "markdown",
   "metadata": {},
   "source": [
    "https://www.geeksforgeeks.org/emotion-detection-using-convolutional-neural-networks-cnns/\n"
   ]
  },
  {
   "cell_type": "code",
   "execution_count": null,
   "metadata": {},
   "outputs": [],
   "source": [
    "#Install required packages\n",
    "\n",
    "!pip install keras\n",
    "!pip install tensorflow\n",
    "!pip install --upgrade keras tensorflow\n",
    "!pip install --upgrade opencv-python"
   ]
  },
  {
   "cell_type": "code",
   "execution_count": null,
   "metadata": {},
   "outputs": [],
   "source": [
    "#Import required packages\n",
    "from keras.models import Sequential \n",
    "from keras.layers import Conv2D, MaxPooling2D, Dense, Dropout, Flatten \n",
    "from keras.optimizers import Adam \n",
    "from keras.preprocessing.image import ImageDataGenerator \n",
    "from tensorflow.keras.optimizers import Adam \n",
    "from tensorflow.keras.preprocessing.image import ImageDataGenerator \n",
    "from tensorflow.keras.optimizers.schedules import ExponentialDecay \n",
    "import cv2 \n",
    "from keras.models import model_from_json \n",
    "import numpy as np"
   ]
  },
  {
   "cell_type": "code",
   "execution_count": null,
   "metadata": {},
   "outputs": [],
   "source": [
    "train_data_gen = ImageDataGenerator(rescale=1./255) \n",
    "validation_data_gen = ImageDataGenerator(rescale=1./255) "
   ]
  },
  {
   "cell_type": "code",
   "execution_count": null,
   "metadata": {},
   "outputs": [],
   "source": [
    "train_generator = train_data_gen.flow_from_directory( \n",
    "    'Train File Path', \n",
    "    target_size=(48, 48), \n",
    "    batch_size=64, \n",
    "    color_mode=\"grayscale\", \n",
    "    class_mode='categorical') "
   ]
  },
  {
   "cell_type": "code",
   "execution_count": null,
   "metadata": {},
   "outputs": [],
   "source": [
    "validation_generator = validation_data_gen.flow_from_directory( \n",
    "        'Test file path', \n",
    "        target_size=(48, 48), \n",
    "        batch_size=64, \n",
    "        color_mode=\"grayscale\", \n",
    "        class_mode='categorical') "
   ]
  },
  {
   "cell_type": "code",
   "execution_count": null,
   "metadata": {},
   "outputs": [],
   "source": [
    "emotion_model = Sequential() \n",
    "  \n",
    "emotion_model.add(Conv2D(32, kernel_size=(3, 3), activation='relu',  \n",
    "                         input_shape=(48, 48, 1))) \n",
    "emotion_model.add(Conv2D(64, kernel_size=(3, 3), activation='relu')) \n",
    "emotion_model.add(MaxPooling2D(pool_size=(2, 2))) \n",
    "emotion_model.add(Dropout(0.25)) \n",
    "  \n",
    "emotion_model.add(Conv2D(128, kernel_size=(3, 3), activation='relu')) \n",
    "emotion_model.add(MaxPooling2D(pool_size=(2, 2))) \n",
    "emotion_model.add(Conv2D(128, kernel_size=(3, 3), activation='relu')) \n",
    "emotion_model.add(MaxPooling2D(pool_size=(2, 2))) \n",
    "emotion_model.add(Dropout(0.25)) \n",
    "  \n",
    "emotion_model.add(Flatten()) \n",
    "emotion_model.add(Dense(1024, activation='relu')) \n",
    "emotion_model.add(Dropout(0.5)) \n",
    "emotion_model.add(Dense(7, activation='softmax')) \n",
    "  \n",
    "emotion_model.summary() \n",
    "  \n",
    "cv2.ocl.setUseOpenCL(False) \n",
    "  \n",
    "initial_learning_rate = 0.0001\n",
    "lr_schedule = ExponentialDecay(initial_learning_rate, decay_steps=100000, decay_rate=0.96) \n",
    "  \n",
    "optimizer = Adam(learning_rate=lr_schedule) \n",
    "  \n",
    "emotion_model.compile(loss='categorical_crossentropy', optimizer=optimizer, metrics=['accuracy']) "
   ]
  },
  {
   "cell_type": "code",
   "execution_count": null,
   "metadata": {},
   "outputs": [],
   "source": [
    "emotion_model_info = emotion_model.fit_generator( \n",
    "        train_generator, \n",
    "        steps_per_epoch=28709 // 64, \n",
    "        epochs=30, \n",
    "        validation_data=validation_generator, \n",
    "        validation_steps=7178 // 64) "
   ]
  },
  {
   "cell_type": "code",
   "execution_count": null,
   "metadata": {},
   "outputs": [],
   "source": [
    "emotion_model.evaluate(validation_generator)"
   ]
  },
  {
   "cell_type": "code",
   "execution_count": null,
   "metadata": {},
   "outputs": [],
   "source": [
    "accuracy = emotion_model_info.history['accuracy'] \n",
    "val_accuracy = emotion_model_info.history['val_accuracy'] \n",
    "loss = emotion_model_info.history['loss'] \n",
    "val_loss = emotion_model_info.history['val_loss']"
   ]
  },
  {
   "cell_type": "code",
   "execution_count": null,
   "metadata": {},
   "outputs": [],
   "source": [
    "import matplotlib.pyplot as plt \n",
    "  \n",
    "# Accuracy graph \n",
    "plt.subplot(1, 2, 1) \n",
    "plt.plot(accuracy, label='accuracy') \n",
    "plt.plot(val_accuracy, label='val accuracy') \n",
    "plt.title('Accuracy Graph') \n",
    "plt.xlabel('Epochs') \n",
    "plt.ylabel('Accuracy') \n",
    "plt.legend() \n",
    "  \n",
    "# loss graph \n",
    "plt.subplot(1, 2, 2) \n",
    "plt.plot(loss, label='loss') \n",
    "plt.plot(val_loss, label='val loss') \n",
    "plt.title('Loss Graph') \n",
    "plt.xlabel('Epochs') \n",
    "plt.ylabel('Loss') \n",
    "plt.legend() \n",
    "  \n",
    "plt.show() "
   ]
  },
  {
   "cell_type": "code",
   "execution_count": null,
   "metadata": {},
   "outputs": [],
   "source": [
    "model_json = emotion_model.to_json() \n",
    "with open(\"emotion_model.json\", \"w\") as json_file: \n",
    "    json_file.write(model_json) \n",
    "  \n",
    "# save trained model weight in .h5 file \n",
    "emotion_model.save_weights('emotion_model.h5') "
   ]
  }
 ],
 "metadata": {
  "language_info": {
   "name": "python"
  }
 },
 "nbformat": 4,
 "nbformat_minor": 2
}
